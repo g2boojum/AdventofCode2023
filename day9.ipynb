{
 "cells": [
  {
   "cell_type": "code",
   "execution_count": 1,
   "id": "7d89395f-877a-4021-a8b2-9be45f5982ad",
   "metadata": {},
   "outputs": [],
   "source": [
    "# imports here"
   ]
  },
  {
   "cell_type": "code",
   "execution_count": 2,
   "id": "63c91d94-5d8e-4442-a3ac-89f6baa752a9",
   "metadata": {},
   "outputs": [],
   "source": [
    "testlines = '''0 3 6 9 12 15\n",
    "1 3 6 10 15 21\n",
    "10 13 16 21 30 45'''.splitlines()"
   ]
  },
  {
   "cell_type": "code",
   "execution_count": 3,
   "id": "8a2a3cee-b806-40f1-b558-15318a3597ec",
   "metadata": {},
   "outputs": [],
   "source": [
    "with open('day9input.txt') as fp:\n",
    "    data = fp.read().splitlines()"
   ]
  },
  {
   "cell_type": "markdown",
   "id": "4cef6441-8761-4f83-bab3-e38f33ac2ee4",
   "metadata": {},
   "source": [
    "## Part 1"
   ]
  },
  {
   "cell_type": "code",
   "execution_count": 4,
   "id": "ecd198b1-61ab-4015-859d-4e1fadf5bd21",
   "metadata": {},
   "outputs": [],
   "source": [
    "def parse(lines):\n",
    "    return [[int(num) for num in line.split()] for line in lines]"
   ]
  },
  {
   "cell_type": "code",
   "execution_count": 5,
   "id": "ea1b8c65-3684-47c7-ab9f-3bd8ec2fe4c1",
   "metadata": {},
   "outputs": [
    {
     "data": {
      "text/plain": [
       "[[0, 3, 6, 9, 12, 15], [1, 3, 6, 10, 15, 21], [10, 13, 16, 21, 30, 45]]"
      ]
     },
     "execution_count": 5,
     "metadata": {},
     "output_type": "execute_result"
    }
   ],
   "source": [
    "testhists = parse(testlines)\n",
    "testhists"
   ]
  },
  {
   "cell_type": "code",
   "execution_count": 6,
   "id": "7dc269a8-8352-4cc4-bb17-3fac636f18b5",
   "metadata": {},
   "outputs": [],
   "source": [
    "def getnext(seq):\n",
    "    if all(a == 0 for a in seq):\n",
    "        return 0\n",
    "    nextseq = [b - a for a,b in zip(seq, seq[1:])]\n",
    "    return seq[-1] + getnext(nextseq)\n",
    "    "
   ]
  },
  {
   "cell_type": "code",
   "execution_count": 7,
   "id": "2a10687f-9326-44c6-a308-9f4093d79d5f",
   "metadata": {},
   "outputs": [],
   "source": [
    "def part1(lines):\n",
    "    hists = parse(lines)\n",
    "    return sum(getnext(seq) for seq in hists)"
   ]
  },
  {
   "cell_type": "code",
   "execution_count": 8,
   "id": "5dc77de8-ba93-4137-bd03-84db16497a8f",
   "metadata": {},
   "outputs": [
    {
     "data": {
      "text/plain": [
       "114"
      ]
     },
     "execution_count": 8,
     "metadata": {},
     "output_type": "execute_result"
    }
   ],
   "source": [
    "part1(testlines)"
   ]
  },
  {
   "cell_type": "code",
   "execution_count": 9,
   "id": "43ba935e-7f1e-410d-80ef-e58b9458be8b",
   "metadata": {},
   "outputs": [
    {
     "data": {
      "text/plain": [
       "1980437560"
      ]
     },
     "execution_count": 9,
     "metadata": {},
     "output_type": "execute_result"
    }
   ],
   "source": [
    "part1(data)"
   ]
  },
  {
   "cell_type": "markdown",
   "id": "b64cdb0b-de34-4a7e-86c9-081124cefaac",
   "metadata": {},
   "source": [
    "## Part 2"
   ]
  },
  {
   "cell_type": "code",
   "execution_count": 10,
   "id": "2d1fdc60-0eec-434d-9b27-a4e31f804686",
   "metadata": {},
   "outputs": [],
   "source": [
    "def getnext2(seq):\n",
    "    if all(a == 0 for a in seq):\n",
    "        return 0\n",
    "    nextseq = [b - a for a,b in zip(seq, seq[1:])]\n",
    "    return seq[0] - getnext2(nextseq)"
   ]
  },
  {
   "cell_type": "code",
   "execution_count": 11,
   "id": "feaf9f77-c921-4f6a-b210-2296a5d3bf79",
   "metadata": {},
   "outputs": [],
   "source": [
    "def part2(lines):\n",
    "    hists = parse(lines)\n",
    "    return sum(getnext2(seq) for seq in hists)"
   ]
  },
  {
   "cell_type": "code",
   "execution_count": 12,
   "id": "5f20f5f2-3bf4-41ac-9351-60f4227a8f00",
   "metadata": {},
   "outputs": [
    {
     "data": {
      "text/plain": [
       "2"
      ]
     },
     "execution_count": 12,
     "metadata": {},
     "output_type": "execute_result"
    }
   ],
   "source": [
    "part2(testlines)"
   ]
  },
  {
   "cell_type": "code",
   "execution_count": 13,
   "id": "6b5f98fc-988c-47b3-b0b5-ea44dd42e931",
   "metadata": {},
   "outputs": [
    {
     "data": {
      "text/plain": [
       "977"
      ]
     },
     "execution_count": 13,
     "metadata": {},
     "output_type": "execute_result"
    }
   ],
   "source": [
    "part2(data)"
   ]
  },
  {
   "cell_type": "code",
   "execution_count": null,
   "id": "69223008-6abc-4b6b-9711-2614d2508fdc",
   "metadata": {},
   "outputs": [],
   "source": []
  }
 ],
 "metadata": {
  "kernelspec": {
   "display_name": "Python 3 (ipykernel)",
   "language": "python",
   "name": "python3"
  },
  "language_info": {
   "codemirror_mode": {
    "name": "ipython",
    "version": 3
   },
   "file_extension": ".py",
   "mimetype": "text/x-python",
   "name": "python",
   "nbconvert_exporter": "python",
   "pygments_lexer": "ipython3",
   "version": "3.10.12"
  }
 },
 "nbformat": 4,
 "nbformat_minor": 5
}
