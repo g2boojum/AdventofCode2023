{
 "cells": [
  {
   "cell_type": "code",
   "execution_count": 1,
   "id": "3c618be8-960c-4a95-8aef-aa725ac45f04",
   "metadata": {},
   "outputs": [],
   "source": [
    "import itertools\n",
    "import math"
   ]
  },
  {
   "cell_type": "code",
   "execution_count": 2,
   "id": "37701382-357f-4401-83de-ee93631fd3d9",
   "metadata": {},
   "outputs": [],
   "source": [
    "testlines1 = '''RL\n",
    "\n",
    "AAA = (BBB, CCC)\n",
    "BBB = (DDD, EEE)\n",
    "CCC = (ZZZ, GGG)\n",
    "DDD = (DDD, DDD)\n",
    "EEE = (EEE, EEE)\n",
    "GGG = (GGG, GGG)\n",
    "ZZZ = (ZZZ, ZZZ)'''.splitlines()"
   ]
  },
  {
   "cell_type": "code",
   "execution_count": 3,
   "id": "def25391-ff38-48d2-b29d-c9c1724a7876",
   "metadata": {},
   "outputs": [],
   "source": [
    "testlines2 = '''LLR\n",
    "\n",
    "AAA = (BBB, BBB)\n",
    "BBB = (AAA, ZZZ)\n",
    "ZZZ = (ZZZ, ZZZ)'''.splitlines()"
   ]
  },
  {
   "cell_type": "code",
   "execution_count": 4,
   "id": "ffbe0360-0a69-4c3d-a974-cdf13496ab08",
   "metadata": {},
   "outputs": [],
   "source": [
    "with open('day8input.txt') as fp:\n",
    "    data = fp.read().splitlines()"
   ]
  },
  {
   "cell_type": "markdown",
   "id": "33d6620c-18d4-48cc-9902-ca59bf1e435f",
   "metadata": {},
   "source": [
    "## Part 1"
   ]
  },
  {
   "cell_type": "code",
   "execution_count": 5,
   "id": "31e3db34-4168-4850-9089-b593e9c547c7",
   "metadata": {},
   "outputs": [],
   "source": [
    "def get_instructions_and_nodes(lines):\n",
    "    nodes = {}\n",
    "    for i, line in enumerate(lines):\n",
    "        if i == 0:\n",
    "            instructions = line.strip()\n",
    "        elif i >=2:\n",
    "            tokens = line.split()\n",
    "            node = tokens[0]\n",
    "            left = tokens[2][1:-1]\n",
    "            right = tokens[3][:-1]\n",
    "            nodes[node] = {'L': left, 'R': right }\n",
    "    return instructions, nodes"
   ]
  },
  {
   "cell_type": "code",
   "execution_count": 6,
   "id": "b4cc9ee9-1757-4766-b318-0fd4163994a3",
   "metadata": {},
   "outputs": [
    {
     "data": {
      "text/plain": [
       "('RL',\n",
       " {'AAA': {'L': 'BBB', 'R': 'CCC'},\n",
       "  'BBB': {'L': 'DDD', 'R': 'EEE'},\n",
       "  'CCC': {'L': 'ZZZ', 'R': 'GGG'},\n",
       "  'DDD': {'L': 'DDD', 'R': 'DDD'},\n",
       "  'EEE': {'L': 'EEE', 'R': 'EEE'},\n",
       "  'GGG': {'L': 'GGG', 'R': 'GGG'},\n",
       "  'ZZZ': {'L': 'ZZZ', 'R': 'ZZZ'}})"
      ]
     },
     "execution_count": 6,
     "metadata": {},
     "output_type": "execute_result"
    }
   ],
   "source": [
    "get_instructions_and_nodes(testlines1)"
   ]
  },
  {
   "cell_type": "code",
   "execution_count": 7,
   "id": "db7b209e-23bc-4d60-ac83-54b9c416e00c",
   "metadata": {},
   "outputs": [],
   "source": [
    "def part1(lines):\n",
    "    instructions, nodes = get_instructions_and_nodes(lines)\n",
    "    loc = 'AAA'\n",
    "    for i, step in enumerate(itertools.cycle(instructions)):\n",
    "        loc = nodes[loc][step]\n",
    "        if loc == 'ZZZ':\n",
    "            return i+1\n",
    "    return -1\n",
    "        "
   ]
  },
  {
   "cell_type": "code",
   "execution_count": 8,
   "id": "5eee217c-aaef-42e4-ba1f-b80661974c03",
   "metadata": {},
   "outputs": [
    {
     "data": {
      "text/plain": [
       "2"
      ]
     },
     "execution_count": 8,
     "metadata": {},
     "output_type": "execute_result"
    }
   ],
   "source": [
    "part1(testlines1)"
   ]
  },
  {
   "cell_type": "code",
   "execution_count": 9,
   "id": "ba90ab90-dad3-4f83-9a53-3baf393eacab",
   "metadata": {},
   "outputs": [
    {
     "data": {
      "text/plain": [
       "6"
      ]
     },
     "execution_count": 9,
     "metadata": {},
     "output_type": "execute_result"
    }
   ],
   "source": [
    "part1(testlines2)"
   ]
  },
  {
   "cell_type": "code",
   "execution_count": 10,
   "id": "fb24cbd6-708e-4401-a352-b630f9955b01",
   "metadata": {},
   "outputs": [
    {
     "data": {
      "text/plain": [
       "15871"
      ]
     },
     "execution_count": 10,
     "metadata": {},
     "output_type": "execute_result"
    }
   ],
   "source": [
    "part1(data)"
   ]
  },
  {
   "cell_type": "markdown",
   "id": "7b44827c-7050-4448-92a7-e82db0f674bc",
   "metadata": {},
   "source": [
    "## Part 2"
   ]
  },
  {
   "cell_type": "code",
   "execution_count": 11,
   "id": "d5b2e681-5d13-4694-afed-7a3f86a84ca7",
   "metadata": {},
   "outputs": [],
   "source": [
    "testlines3 = '''LR\n",
    "\n",
    "11A = (11B, XXX)\n",
    "11B = (XXX, 11Z)\n",
    "11Z = (11B, XXX)\n",
    "22A = (22B, XXX)\n",
    "22B = (22C, 22C)\n",
    "22C = (22Z, 22Z)\n",
    "22Z = (22B, 22B)\n",
    "XXX = (XXX, XXX)'''.splitlines()"
   ]
  },
  {
   "cell_type": "code",
   "execution_count": 12,
   "id": "5ddc1af5-4c8c-4f5d-a688-dfc0dfe5e161",
   "metadata": {},
   "outputs": [],
   "source": [
    "def part2_too_long(lines):\n",
    "    instructions, nodes = get_instructions_and_nodes(lines)\n",
    "    locs = [node for node in nodes if node[-1] == 'A']\n",
    "    print('# of starting nodes: ', len(locs))\n",
    "    for i, step in enumerate(itertools.cycle(instructions)):\n",
    "        locs = [nodes[loc][step] for loc in locs]\n",
    "        if all(loc[-1] == 'Z' for loc in locs):\n",
    "            return i+1\n",
    "    return -1"
   ]
  },
  {
   "cell_type": "code",
   "execution_count": 13,
   "id": "6a6255e1-827d-440a-bfd4-dfcbedde0b5f",
   "metadata": {},
   "outputs": [
    {
     "name": "stdout",
     "output_type": "stream",
     "text": [
      "# of starting nodes:  2\n"
     ]
    },
    {
     "data": {
      "text/plain": [
       "6"
      ]
     },
     "execution_count": 13,
     "metadata": {},
     "output_type": "execute_result"
    }
   ],
   "source": [
    "part2_too_long(testlines3)"
   ]
  },
  {
   "cell_type": "code",
   "execution_count": 14,
   "id": "a6af42e1-6ff4-49e6-9e47-e1ebe42542b5",
   "metadata": {},
   "outputs": [],
   "source": [
    "# Takes too long\n",
    "#part2_too_long(data)"
   ]
  },
  {
   "cell_type": "code",
   "execution_count": 15,
   "id": "47c49fcd-cc0b-4796-9c19-178d189d4040",
   "metadata": {},
   "outputs": [],
   "source": [
    "def part2(lines):\n",
    "    instructions, nodes = get_instructions_and_nodes(lines)\n",
    "    locs = [node for node in nodes if node[-1] == 'A']\n",
    "    steps = []\n",
    "    for loc in locs:\n",
    "        for i, step in enumerate(itertools.cycle(instructions)):\n",
    "            loc = nodes[loc][step]\n",
    "            if loc[-1] == 'Z':\n",
    "                steps.append(i+1)\n",
    "                break\n",
    "    print(steps)\n",
    "    return math.lcm(*steps)"
   ]
  },
  {
   "cell_type": "code",
   "execution_count": 16,
   "id": "e180bff8-33c2-4c15-b35f-a44f84e75476",
   "metadata": {},
   "outputs": [
    {
     "name": "stdout",
     "output_type": "stream",
     "text": [
      "[2, 3]\n"
     ]
    },
    {
     "data": {
      "text/plain": [
       "6"
      ]
     },
     "execution_count": 16,
     "metadata": {},
     "output_type": "execute_result"
    }
   ],
   "source": [
    "part2(testlines3)"
   ]
  },
  {
   "cell_type": "code",
   "execution_count": 17,
   "id": "bf4cda2a-791c-4fcf-9df7-e350e369590b",
   "metadata": {},
   "outputs": [
    {
     "name": "stdout",
     "output_type": "stream",
     "text": [
      "[16409, 12643, 21251, 15871, 19637, 11567]\n"
     ]
    },
    {
     "data": {
      "text/plain": [
       "11283670395017"
      ]
     },
     "execution_count": 17,
     "metadata": {},
     "output_type": "execute_result"
    }
   ],
   "source": [
    "part2(data)"
   ]
  },
  {
   "cell_type": "code",
   "execution_count": null,
   "id": "ee8298b1-5bb1-4fb9-925d-2bd004ad9892",
   "metadata": {},
   "outputs": [],
   "source": []
  }
 ],
 "metadata": {
  "kernelspec": {
   "display_name": "Python 3 (ipykernel)",
   "language": "python",
   "name": "python3"
  },
  "language_info": {
   "codemirror_mode": {
    "name": "ipython",
    "version": 3
   },
   "file_extension": ".py",
   "mimetype": "text/x-python",
   "name": "python",
   "nbconvert_exporter": "python",
   "pygments_lexer": "ipython3",
   "version": "3.10.12"
  }
 },
 "nbformat": 4,
 "nbformat_minor": 5
}
