{
 "cells": [
  {
   "cell_type": "code",
   "execution_count": 1,
   "id": "9b32b918-549d-4874-9308-36335f038f86",
   "metadata": {},
   "outputs": [],
   "source": [
    "%matplotlib inline"
   ]
  },
  {
   "cell_type": "code",
   "execution_count": 2,
   "id": "71bc6404-b84e-463a-a269-7cd2de6b07a7",
   "metadata": {},
   "outputs": [],
   "source": [
    "testlines = '''Card 1: 41 48 83 86 17 | 83 86  6 31 17  9 48 53\n",
    "Card 2: 13 32 20 16 61 | 61 30 68 82 17 32 24 19\n",
    "Card 3:  1 21 53 59 44 | 69 82 63 72 16 21 14  1\n",
    "Card 4: 41 92 73 84 69 | 59 84 76 51 58  5 54 83\n",
    "Card 5: 87 83 26 28 32 | 88 30 70 12 93 22 82 36\n",
    "Card 6: 31 18 13 56 72 | 74 77 10 23 35 67 36 11'''.splitlines()"
   ]
  },
  {
   "cell_type": "code",
   "execution_count": 3,
   "id": "6fcb524e-fc38-43e5-ab53-358a3c349409",
   "metadata": {},
   "outputs": [],
   "source": [
    "with open('day4input.txt') as fp:\n",
    "    data = fp.read().splitlines()"
   ]
  },
  {
   "cell_type": "markdown",
   "id": "50b1017c-2a8d-4a42-89e0-3df789401ffd",
   "metadata": {},
   "source": [
    "## Part 1"
   ]
  },
  {
   "cell_type": "code",
   "execution_count": 4,
   "id": "b1293608-aeab-4095-a4d3-9dce2ba451b8",
   "metadata": {},
   "outputs": [],
   "source": [
    "def parseline(line):\n",
    "    winstr, heldstr = line.split('|')\n",
    "    winnums = [int(num) for num in winstr.split(':')[1].split()]\n",
    "    heldnums = [int(num) for num in heldstr.split()]\n",
    "    return winnums, heldnums"
   ]
  },
  {
   "cell_type": "code",
   "execution_count": 5,
   "id": "9f9e6314-a384-43ef-ba87-08ccf7e6f64e",
   "metadata": {},
   "outputs": [
    {
     "data": {
      "text/plain": [
       "([41, 48, 83, 86, 17], [83, 86, 6, 31, 17, 9, 48, 53])"
      ]
     },
     "execution_count": 5,
     "metadata": {},
     "output_type": "execute_result"
    }
   ],
   "source": [
    "parseline(testlines[0])"
   ]
  },
  {
   "cell_type": "code",
   "execution_count": 6,
   "id": "bc3c48b4-c26b-4445-a2a6-8620b568a76f",
   "metadata": {},
   "outputs": [],
   "source": [
    "def ingest(lines):\n",
    "    cards = []\n",
    "    for line in lines:\n",
    "        winnums, heldnums = parseline(line)\n",
    "        matched = len(set(winnums) & set(heldnums))\n",
    "        cards.append({'winnums': winnums, 'heldnums': heldnums, 'matched': matched, 'copies': 1})\n",
    "    return cards"
   ]
  },
  {
   "cell_type": "code",
   "execution_count": 7,
   "id": "df45d58e-6be6-46fd-8f9d-d3b3ff4bd969",
   "metadata": {},
   "outputs": [],
   "source": [
    "testcards = ingest(testlines)"
   ]
  },
  {
   "cell_type": "code",
   "execution_count": 8,
   "id": "cfefc839-1e84-4ff7-9a3b-172c16ba98c7",
   "metadata": {},
   "outputs": [],
   "source": [
    "def score(card):\n",
    "    matched = card['matched']\n",
    "    if matched == 0:\n",
    "        return 0\n",
    "    return 2**(matched - 1)"
   ]
  },
  {
   "cell_type": "code",
   "execution_count": 9,
   "id": "010c98fb-86af-4066-9743-dafcbd227750",
   "metadata": {},
   "outputs": [
    {
     "data": {
      "text/plain": [
       "[8, 2, 2, 1, 0, 0]"
      ]
     },
     "execution_count": 9,
     "metadata": {},
     "output_type": "execute_result"
    }
   ],
   "source": [
    "[score(card) for card in testcards]"
   ]
  },
  {
   "cell_type": "code",
   "execution_count": 10,
   "id": "e840e133-e81b-4cee-8740-ebf541c0182d",
   "metadata": {},
   "outputs": [],
   "source": [
    "def part1(lines):\n",
    "    cards = ingest(lines)\n",
    "    return sum(score(card) for card in cards)"
   ]
  },
  {
   "cell_type": "code",
   "execution_count": 11,
   "id": "bc177701-bc8d-42be-9117-1ca9fda0e546",
   "metadata": {},
   "outputs": [
    {
     "data": {
      "text/plain": [
       "13"
      ]
     },
     "execution_count": 11,
     "metadata": {},
     "output_type": "execute_result"
    }
   ],
   "source": [
    "part1(testlines)"
   ]
  },
  {
   "cell_type": "code",
   "execution_count": 12,
   "id": "094ef169-1f1f-43de-bc32-3372b4ab0960",
   "metadata": {},
   "outputs": [
    {
     "data": {
      "text/plain": [
       "19855"
      ]
     },
     "execution_count": 12,
     "metadata": {},
     "output_type": "execute_result"
    }
   ],
   "source": [
    "part1(data)"
   ]
  },
  {
   "cell_type": "markdown",
   "id": "0639614a-9ea8-4a1c-a3e1-15891897da6e",
   "metadata": {},
   "source": [
    "## Part 2"
   ]
  },
  {
   "cell_type": "code",
   "execution_count": 13,
   "id": "54e1a734-e891-4c65-bc08-5d549c5cfe52",
   "metadata": {},
   "outputs": [],
   "source": [
    "def part2(lines):\n",
    "    cards = ingest(lines)\n",
    "    for i, card in enumerate(cards):\n",
    "        matched = card['matched']\n",
    "        if matched == 0:\n",
    "            continue\n",
    "        for j in range(i+1, i+1+matched):\n",
    "            cards[j]['copies'] += card['copies']\n",
    "    return sum(card['copies'] for card in cards)"
   ]
  },
  {
   "cell_type": "code",
   "execution_count": 14,
   "id": "da6cc8e2-ca71-4566-9294-66fa27c65120",
   "metadata": {},
   "outputs": [
    {
     "data": {
      "text/plain": [
       "30"
      ]
     },
     "execution_count": 14,
     "metadata": {},
     "output_type": "execute_result"
    }
   ],
   "source": [
    "part2(testlines)"
   ]
  },
  {
   "cell_type": "code",
   "execution_count": 15,
   "id": "2b6c67b5-a319-451a-9764-b9a65389baa0",
   "metadata": {},
   "outputs": [
    {
     "data": {
      "text/plain": [
       "10378710"
      ]
     },
     "execution_count": 15,
     "metadata": {},
     "output_type": "execute_result"
    }
   ],
   "source": [
    "part2(data)"
   ]
  },
  {
   "cell_type": "code",
   "execution_count": null,
   "id": "3916b7d4-7937-4eb0-87fd-76d4604e1965",
   "metadata": {},
   "outputs": [],
   "source": []
  }
 ],
 "metadata": {
  "kernelspec": {
   "display_name": "Python 3 (ipykernel)",
   "language": "python",
   "name": "python3"
  },
  "language_info": {
   "codemirror_mode": {
    "name": "ipython",
    "version": 3
   },
   "file_extension": ".py",
   "mimetype": "text/x-python",
   "name": "python",
   "nbconvert_exporter": "python",
   "pygments_lexer": "ipython3",
   "version": "3.9.2"
  }
 },
 "nbformat": 4,
 "nbformat_minor": 5
}
