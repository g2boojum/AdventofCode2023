{
 "cells": [
  {
   "cell_type": "code",
   "execution_count": 1,
   "id": "631b809a-1244-49ec-be07-9d09a960c633",
   "metadata": {},
   "outputs": [],
   "source": [
    "%matplotlib inline\n",
    "import pandas as pd\n",
    "import numpy as np\n",
    "import matplotlib.pyplot as plt\n",
    "import scipy as sp\n",
    "import scipy.optimize as spo\n",
    "import statsmodels.api as sm\n",
    "from statsmodels.graphics.dotplots import dot_plot\n",
    "from scipy.interpolate import interp1d\n",
    "import seaborn as sns\n",
    "params = {'figure.figsize': (10,7),\n",
    "          'axes.labelsize': 18,\n",
    "          'font.size': 18,\n",
    "          'xtick.labelsize': 16,\n",
    "          'ytick.labelsize': 16,\n",
    "          'legend.fontsize': 16}\n",
    "sns.set(palette='Set2', style='ticks', rc=params)"
   ]
  },
  {
   "cell_type": "code",
   "execution_count": 6,
   "id": "9c683699-1a65-4a7a-b036-6dd61e44ec49",
   "metadata": {},
   "outputs": [],
   "source": [
    "testlines = \"\"\"1abc2\n",
    "pqr3stu8vwx\n",
    "a1b2c3d4e5f\n",
    "treb7uchet\"\"\".splitlines()"
   ]
  },
  {
   "cell_type": "code",
   "execution_count": 4,
   "id": "0ecffb58-4fd0-4f83-ab72-e19ce2cb0f8a",
   "metadata": {},
   "outputs": [],
   "source": [
    "with open('day1input.txt') as fp:\n",
    "    data = fp.read().splitlines()"
   ]
  },
  {
   "cell_type": "markdown",
   "id": "ed5062db-eb44-448d-a98e-5d1e507b4b44",
   "metadata": {},
   "source": [
    "## Part 1"
   ]
  },
  {
   "cell_type": "code",
   "execution_count": 8,
   "id": "ec68937c-d57b-40a4-9e92-6b7cd8657648",
   "metadata": {},
   "outputs": [],
   "source": [
    "def first_digit(s):\n",
    "    for c in s:\n",
    "        if c.isdigit():\n",
    "            return c"
   ]
  },
  {
   "cell_type": "code",
   "execution_count": 10,
   "id": "d9c7609b-f1f9-4f80-9925-d0fc6fc0a119",
   "metadata": {},
   "outputs": [
    {
     "data": {
      "text/plain": [
       "('1', '2')"
      ]
     },
     "execution_count": 10,
     "metadata": {},
     "output_type": "execute_result"
    }
   ],
   "source": [
    "first_digit(testlines[0]), first_digit(reversed(testlines[0]))"
   ]
  },
  {
   "cell_type": "code",
   "execution_count": 11,
   "id": "bdafa1b6-d2dd-48ce-be48-1f2cd6df6d09",
   "metadata": {},
   "outputs": [],
   "source": [
    "def bothsides_int(s):\n",
    "    return int(''.join([first_digit(s), first_digit(reversed(s))]))"
   ]
  },
  {
   "cell_type": "code",
   "execution_count": 12,
   "id": "b9ced872-29e2-4520-9ec0-98cc5825ba34",
   "metadata": {},
   "outputs": [
    {
     "data": {
      "text/plain": [
       "12"
      ]
     },
     "execution_count": 12,
     "metadata": {},
     "output_type": "execute_result"
    }
   ],
   "source": [
    "bothsides_int(testlines[0])"
   ]
  },
  {
   "cell_type": "code",
   "execution_count": 13,
   "id": "3d5ebb6a-76b7-42bc-9ba9-e7010d5448f6",
   "metadata": {},
   "outputs": [
    {
     "name": "stdout",
     "output_type": "stream",
     "text": [
      "1abc2 12\n",
      "pqr3stu8vwx 38\n",
      "a1b2c3d4e5f 15\n",
      "treb7uchet 77\n"
     ]
    }
   ],
   "source": [
    "for line in testlines:\n",
    "    print(line, bothsides_int(line))"
   ]
  },
  {
   "cell_type": "code",
   "execution_count": 14,
   "id": "11d31eee-45a8-4942-bf55-f64282a29105",
   "metadata": {},
   "outputs": [],
   "source": [
    "def part1(lines):\n",
    "    return sum(bothsides_int(line) for line in lines)"
   ]
  },
  {
   "cell_type": "code",
   "execution_count": 15,
   "id": "008e830b-5383-48e6-8b22-1eae4af226bd",
   "metadata": {},
   "outputs": [
    {
     "data": {
      "text/plain": [
       "142"
      ]
     },
     "execution_count": 15,
     "metadata": {},
     "output_type": "execute_result"
    }
   ],
   "source": [
    "part1(testlines)"
   ]
  },
  {
   "cell_type": "code",
   "execution_count": 16,
   "id": "770ccc43-333a-47b8-ab9e-1879b9b94c31",
   "metadata": {},
   "outputs": [
    {
     "data": {
      "text/plain": [
       "54630"
      ]
     },
     "execution_count": 16,
     "metadata": {},
     "output_type": "execute_result"
    }
   ],
   "source": [
    "part1(data)"
   ]
  },
  {
   "cell_type": "markdown",
   "id": "328f4aea-f57d-412e-aac9-d9506e05169e",
   "metadata": {},
   "source": [
    "## Part 2"
   ]
  },
  {
   "cell_type": "code",
   "execution_count": 20,
   "id": "841bc30e-e916-4d66-904e-26536c585b8e",
   "metadata": {},
   "outputs": [],
   "source": [
    "digits = {'one': '1',\n",
    "          'two': '2',\n",
    "          'three': '3',\n",
    "          'four': '4',\n",
    "          'five': '5',\n",
    "          'six': '6',\n",
    "          'seven': '7',\n",
    "          'eight': '8',\n",
    "          'nine': '9',\n",
    "          'zero': '0'}"
   ]
  },
  {
   "cell_type": "code",
   "execution_count": 19,
   "id": "164daad1-3a85-46f9-9692-722e2179dfcd",
   "metadata": {},
   "outputs": [],
   "source": [
    "testlines2 = \"\"\"two1nine\n",
    "eightwothree\n",
    "abcone2threexyz\n",
    "xtwone3four\n",
    "4nineeightseven2\n",
    "zoneight234\n",
    "7pqrstsixteen\"\"\".splitlines()"
   ]
  },
  {
   "cell_type": "code",
   "execution_count": 21,
   "id": "8dacd662-3fc5-4b7d-952e-b635578cfd00",
   "metadata": {},
   "outputs": [],
   "source": [
    "def word_to_dig(word, dig, s):\n",
    "    return s.replace(word, dig)"
   ]
  },
  {
   "cell_type": "code",
   "execution_count": 22,
   "id": "8b75f66c-a064-4883-8460-e5fa28b7a0a9",
   "metadata": {},
   "outputs": [
    {
     "data": {
      "text/plain": [
       "'21nine'"
      ]
     },
     "execution_count": 22,
     "metadata": {},
     "output_type": "execute_result"
    }
   ],
   "source": [
    "word_to_dig('two', '2', testlines2[0])"
   ]
  },
  {
   "cell_type": "code",
   "execution_count": 25,
   "id": "dc6bfa1c-7ed7-4b3e-b83b-3f494aded0bf",
   "metadata": {},
   "outputs": [],
   "source": [
    "def all_words_to_digs(s):\n",
    "    news = s\n",
    "    for word in digits.keys():\n",
    "        news = word_to_dig(word, digits[word], news)\n",
    "    return news"
   ]
  },
  {
   "cell_type": "code",
   "execution_count": 26,
   "id": "e87c5f7f-6d25-466f-a4dc-a4725fb88d3c",
   "metadata": {},
   "outputs": [
    {
     "data": {
      "text/plain": [
       "'219'"
      ]
     },
     "execution_count": 26,
     "metadata": {},
     "output_type": "execute_result"
    }
   ],
   "source": [
    "all_words_to_digs(testlines2[0])"
   ]
  },
  {
   "cell_type": "code",
   "execution_count": 27,
   "id": "9c3a4590-9e49-4b3f-8f83-1efc34530aac",
   "metadata": {},
   "outputs": [
    {
     "data": {
      "text/plain": [
       "'abc123xyz'"
      ]
     },
     "execution_count": 27,
     "metadata": {},
     "output_type": "execute_result"
    }
   ],
   "source": [
    "all_words_to_digs(testlines2[2])"
   ]
  },
  {
   "cell_type": "code",
   "execution_count": 30,
   "id": "772c747b-69f4-4d78-b6a8-a1b41cc283c8",
   "metadata": {},
   "outputs": [
    {
     "name": "stdout",
     "output_type": "stream",
     "text": [
      "two1nine 219\n",
      "eightwothree eigh23\n",
      "abcone2threexyz abc123xyz\n",
      "xtwone3four xtw134\n",
      "4nineeightseven2 49872\n",
      "zoneight234 z1ight234\n",
      "7pqrstsixteen 7pqrst6teen\n"
     ]
    }
   ],
   "source": [
    "for line in testlines2:\n",
    "    print(line, all_words_to_digs(line))"
   ]
  },
  {
   "cell_type": "code",
   "execution_count": 28,
   "id": "dface37b-3c02-4772-a5c9-226b799fa5b1",
   "metadata": {},
   "outputs": [],
   "source": [
    "def part2(lines):\n",
    "    return sum(bothsides_int(all_words_to_digs(line)) for line in lines)"
   ]
  },
  {
   "cell_type": "code",
   "execution_count": 29,
   "id": "3c26f103-33bc-42c0-9afb-3917d0ccb2f0",
   "metadata": {},
   "outputs": [
    {
     "data": {
      "text/plain": [
       "142"
      ]
     },
     "execution_count": 29,
     "metadata": {},
     "output_type": "execute_result"
    }
   ],
   "source": [
    "part2(testlines)"
   ]
  },
  {
   "cell_type": "code",
   "execution_count": null,
   "id": "b8dac117-dfa5-4853-b37c-341a098fbd63",
   "metadata": {},
   "outputs": [],
   "source": []
  }
 ],
 "metadata": {
  "kernelspec": {
   "display_name": "Python 3 (ipykernel)",
   "language": "python",
   "name": "python3"
  },
  "language_info": {
   "codemirror_mode": {
    "name": "ipython",
    "version": 3
   },
   "file_extension": ".py",
   "mimetype": "text/x-python",
   "name": "python",
   "nbconvert_exporter": "python",
   "pygments_lexer": "ipython3",
   "version": "3.12.0"
  }
 },
 "nbformat": 4,
 "nbformat_minor": 5
}
