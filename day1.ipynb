{
 "cells": [
  {
   "cell_type": "code",
   "execution_count": 1,
   "id": "631b809a-1244-49ec-be07-9d09a960c633",
   "metadata": {},
   "outputs": [],
   "source": [
    "%matplotlib inline\n",
    "import pandas as pd\n",
    "import numpy as np\n",
    "import matplotlib.pyplot as plt\n",
    "import scipy as sp\n",
    "import scipy.optimize as spo\n",
    "import statsmodels.api as sm\n",
    "from statsmodels.graphics.dotplots import dot_plot\n",
    "from scipy.interpolate import interp1d\n",
    "import seaborn as sns\n",
    "params = {'figure.figsize': (10,7),\n",
    "          'axes.labelsize': 18,\n",
    "          'font.size': 18,\n",
    "          'xtick.labelsize': 16,\n",
    "          'ytick.labelsize': 16,\n",
    "          'legend.fontsize': 16}\n",
    "sns.set(palette='Set2', style='ticks', rc=params)"
   ]
  },
  {
   "cell_type": "code",
   "execution_count": 6,
   "id": "9c683699-1a65-4a7a-b036-6dd61e44ec49",
   "metadata": {},
   "outputs": [],
   "source": [
    "testlines = \"\"\"1abc2\n",
    "pqr3stu8vwx\n",
    "a1b2c3d4e5f\n",
    "treb7uchet\"\"\".splitlines()"
   ]
  },
  {
   "cell_type": "code",
   "execution_count": 4,
   "id": "0ecffb58-4fd0-4f83-ab72-e19ce2cb0f8a",
   "metadata": {},
   "outputs": [],
   "source": [
    "with open('day1input.txt') as fp:\n",
    "    data = fp.read().splitlines()"
   ]
  },
  {
   "cell_type": "markdown",
   "id": "ed5062db-eb44-448d-a98e-5d1e507b4b44",
   "metadata": {},
   "source": [
    "## Part 1"
   ]
  },
  {
   "cell_type": "code",
   "execution_count": 8,
   "id": "ec68937c-d57b-40a4-9e92-6b7cd8657648",
   "metadata": {},
   "outputs": [],
   "source": [
    "def first_digit(s):\n",
    "    for c in s:\n",
    "        if c.isdigit():\n",
    "            return c"
   ]
  },
  {
   "cell_type": "code",
   "execution_count": 10,
   "id": "d9c7609b-f1f9-4f80-9925-d0fc6fc0a119",
   "metadata": {},
   "outputs": [
    {
     "data": {
      "text/plain": [
       "('1', '2')"
      ]
     },
     "execution_count": 10,
     "metadata": {},
     "output_type": "execute_result"
    }
   ],
   "source": [
    "first_digit(testlines[0]), first_digit(reversed(testlines[0]))"
   ]
  },
  {
   "cell_type": "code",
   "execution_count": 11,
   "id": "bdafa1b6-d2dd-48ce-be48-1f2cd6df6d09",
   "metadata": {},
   "outputs": [],
   "source": [
    "def bothsides_int(s):\n",
    "    return int(''.join([first_digit(s), first_digit(reversed(s))]))"
   ]
  },
  {
   "cell_type": "code",
   "execution_count": 12,
   "id": "b9ced872-29e2-4520-9ec0-98cc5825ba34",
   "metadata": {},
   "outputs": [
    {
     "data": {
      "text/plain": [
       "12"
      ]
     },
     "execution_count": 12,
     "metadata": {},
     "output_type": "execute_result"
    }
   ],
   "source": [
    "bothsides_int(testlines[0])"
   ]
  },
  {
   "cell_type": "code",
   "execution_count": 13,
   "id": "3d5ebb6a-76b7-42bc-9ba9-e7010d5448f6",
   "metadata": {},
   "outputs": [
    {
     "name": "stdout",
     "output_type": "stream",
     "text": [
      "1abc2 12\n",
      "pqr3stu8vwx 38\n",
      "a1b2c3d4e5f 15\n",
      "treb7uchet 77\n"
     ]
    }
   ],
   "source": [
    "for line in testlines:\n",
    "    print(line, bothsides_int(line))"
   ]
  },
  {
   "cell_type": "code",
   "execution_count": 14,
   "id": "11d31eee-45a8-4942-bf55-f64282a29105",
   "metadata": {},
   "outputs": [],
   "source": [
    "def part1(lines):\n",
    "    return sum(bothsides_int(line) for line in lines)"
   ]
  },
  {
   "cell_type": "code",
   "execution_count": 15,
   "id": "008e830b-5383-48e6-8b22-1eae4af226bd",
   "metadata": {},
   "outputs": [
    {
     "data": {
      "text/plain": [
       "142"
      ]
     },
     "execution_count": 15,
     "metadata": {},
     "output_type": "execute_result"
    }
   ],
   "source": [
    "part1(testlines)"
   ]
  },
  {
   "cell_type": "code",
   "execution_count": 16,
   "id": "770ccc43-333a-47b8-ab9e-1879b9b94c31",
   "metadata": {},
   "outputs": [
    {
     "data": {
      "text/plain": [
       "54630"
      ]
     },
     "execution_count": 16,
     "metadata": {},
     "output_type": "execute_result"
    }
   ],
   "source": [
    "part1(data)"
   ]
  },
  {
   "cell_type": "code",
   "execution_count": null,
   "id": "760968cc-3030-4cf9-a263-7c1267800b48",
   "metadata": {},
   "outputs": [],
   "source": []
  }
 ],
 "metadata": {
  "kernelspec": {
   "display_name": "Python 3 (ipykernel)",
   "language": "python",
   "name": "python3"
  },
  "language_info": {
   "codemirror_mode": {
    "name": "ipython",
    "version": 3
   },
   "file_extension": ".py",
   "mimetype": "text/x-python",
   "name": "python",
   "nbconvert_exporter": "python",
   "pygments_lexer": "ipython3",
   "version": "3.12.0"
  }
 },
 "nbformat": 4,
 "nbformat_minor": 5
}
