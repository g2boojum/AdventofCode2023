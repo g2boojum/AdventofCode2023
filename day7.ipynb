{
 "cells": [
  {
   "cell_type": "code",
   "execution_count": 1,
   "id": "1d093b27-b94a-41a9-9f1f-9467d8e56ddf",
   "metadata": {},
   "outputs": [],
   "source": [
    "%matplotlib inline\n",
    "import collections\n",
    "import pandas as pd\n",
    "from io import StringIO"
   ]
  },
  {
   "cell_type": "code",
   "execution_count": 2,
   "id": "2346ba23-60c0-4991-a5b6-a54d7c7c8bc0",
   "metadata": {},
   "outputs": [],
   "source": [
    "testlines = '''32T3K 765\n",
    "T55J5 684\n",
    "KK677 28\n",
    "KTJJT 220\n",
    "QQQJA 483'''"
   ]
  },
  {
   "cell_type": "code",
   "execution_count": 3,
   "id": "d0cd442f-73ef-4870-816d-17e0964ed732",
   "metadata": {},
   "outputs": [],
   "source": [
    "with open('day7input.txt') as fp:\n",
    "    data = fp.read()"
   ]
  },
  {
   "cell_type": "markdown",
   "id": "135efd31-8cd4-427a-ae10-7487cb760656",
   "metadata": {},
   "source": [
    "## Part 1"
   ]
  },
  {
   "cell_type": "code",
   "execution_count": 4,
   "id": "3393ded0-ebd5-416c-8ce3-a4e1fdcfb9e1",
   "metadata": {},
   "outputs": [],
   "source": [
    "cardnums = {card:hex(num+2)[-1] for num, card in enumerate('23456789TJQKA')}"
   ]
  },
  {
   "cell_type": "code",
   "execution_count": 5,
   "id": "c57852b8-2631-464c-8d77-f26ef28d5d73",
   "metadata": {},
   "outputs": [
    {
     "data": {
      "text/plain": [
       "{'2': '2',\n",
       " '3': '3',\n",
       " '4': '4',\n",
       " '5': '5',\n",
       " '6': '6',\n",
       " '7': '7',\n",
       " '8': '8',\n",
       " '9': '9',\n",
       " 'T': 'a',\n",
       " 'J': 'b',\n",
       " 'Q': 'c',\n",
       " 'K': 'd',\n",
       " 'A': 'e'}"
      ]
     },
     "execution_count": 5,
     "metadata": {},
     "output_type": "execute_result"
    }
   ],
   "source": [
    "cardnums"
   ]
  },
  {
   "cell_type": "code",
   "execution_count": 6,
   "id": "3474a849-0382-42b1-ae7b-d210eb8491ab",
   "metadata": {},
   "outputs": [],
   "source": [
    "typenums = {type: str(num+1) for num,type in enumerate(['High card', 'One pair', 'Two pair', 'Three of a kind',\n",
    "                                                'Full house', 'Four of a kind', 'Five of a kind'])}"
   ]
  },
  {
   "cell_type": "code",
   "execution_count": 7,
   "id": "d4fd1907-25da-4264-971a-26c6cd3496a3",
   "metadata": {},
   "outputs": [
    {
     "data": {
      "text/plain": [
       "{'High card': '1',\n",
       " 'One pair': '2',\n",
       " 'Two pair': '3',\n",
       " 'Three of a kind': '4',\n",
       " 'Full house': '5',\n",
       " 'Four of a kind': '6',\n",
       " 'Five of a kind': '7'}"
      ]
     },
     "execution_count": 7,
     "metadata": {},
     "output_type": "execute_result"
    }
   ],
   "source": [
    "typenums"
   ]
  },
  {
   "cell_type": "code",
   "execution_count": 8,
   "id": "e9f0ed12-2b72-4b4f-a9cd-4f9a5c18c70d",
   "metadata": {},
   "outputs": [],
   "source": [
    "def get_type(hand):\n",
    "    c = collections.Counter(hand)\n",
    "    maxcnt = max(c.values())\n",
    "    if maxcnt == 5:\n",
    "        return 'Five of a kind'\n",
    "    elif maxcnt == 4:\n",
    "        return 'Four of a kind'\n",
    "    elif maxcnt == 3:\n",
    "        # either three of a kind, or a full house\n",
    "        if 2 in c.values():\n",
    "            return 'Full house'\n",
    "        else:\n",
    "            return 'Three of a kind'\n",
    "    elif maxcnt == 2:\n",
    "        # either one pair, or two pair\n",
    "        cv = collections.Counter(c.values())\n",
    "        if cv[2] == 2:\n",
    "            return 'Two pair'\n",
    "        else:\n",
    "            return 'One pair'\n",
    "    else:\n",
    "        return 'High card'"
   ]
  },
  {
   "cell_type": "code",
   "execution_count": 9,
   "id": "627adc1c-3be8-4a7e-8661-1c3acbde3bc7",
   "metadata": {},
   "outputs": [],
   "source": [
    "def get_score(hand):\n",
    "    type = get_type(hand)\n",
    "    s = [typenums[type]]\n",
    "    for c in hand:\n",
    "        s.append(cardnums[c])\n",
    "    return int(f'0x{\"\".join(s)}', 16)"
   ]
  },
  {
   "cell_type": "code",
   "execution_count": 10,
   "id": "8dad4275-0bfc-48fc-bc75-3a6060beed01",
   "metadata": {},
   "outputs": [
    {
     "data": {
      "text/plain": [
       "2304573"
      ]
     },
     "execution_count": 10,
     "metadata": {},
     "output_type": "execute_result"
    }
   ],
   "source": [
    "get_score('32T3K')"
   ]
  },
  {
   "cell_type": "code",
   "execution_count": 11,
   "id": "14ef583d-d191-4239-9735-903da1f1938a",
   "metadata": {},
   "outputs": [],
   "source": [
    "def part1(inputstr, returndf=False):\n",
    "    df = pd.read_table(StringIO(inputstr), sep=' ', names=['hand', 'bid'])\n",
    "    df['type'] = df['hand'].apply(get_type)\n",
    "    df['score'] = df['hand'].apply(get_score)\n",
    "    dfsort = df.sort_values('score', ascending=True, ignore_index=True)\n",
    "    dfsort['rank'] = dfsort.index + 1\n",
    "    dfsort['winnings'] = dfsort['bid']*dfsort['rank']\n",
    "    if returndf:\n",
    "        return dfsort\n",
    "    return dfsort['winnings'].sum()"
   ]
  },
  {
   "cell_type": "code",
   "execution_count": 12,
   "id": "3a188e8e-7cf4-4530-9d2b-782c23d694ed",
   "metadata": {},
   "outputs": [
    {
     "data": {
      "text/html": [
       "<div>\n",
       "<style scoped>\n",
       "    .dataframe tbody tr th:only-of-type {\n",
       "        vertical-align: middle;\n",
       "    }\n",
       "\n",
       "    .dataframe tbody tr th {\n",
       "        vertical-align: top;\n",
       "    }\n",
       "\n",
       "    .dataframe thead th {\n",
       "        text-align: right;\n",
       "    }\n",
       "</style>\n",
       "<table border=\"1\" class=\"dataframe\">\n",
       "  <thead>\n",
       "    <tr style=\"text-align: right;\">\n",
       "      <th></th>\n",
       "      <th>hand</th>\n",
       "      <th>bid</th>\n",
       "      <th>type</th>\n",
       "      <th>score</th>\n",
       "      <th>rank</th>\n",
       "      <th>winnings</th>\n",
       "    </tr>\n",
       "  </thead>\n",
       "  <tbody>\n",
       "    <tr>\n",
       "      <th>0</th>\n",
       "      <td>32T3K</td>\n",
       "      <td>765</td>\n",
       "      <td>One pair</td>\n",
       "      <td>2304573</td>\n",
       "      <td>1</td>\n",
       "      <td>765</td>\n",
       "    </tr>\n",
       "    <tr>\n",
       "      <th>1</th>\n",
       "      <td>KTJJT</td>\n",
       "      <td>220</td>\n",
       "      <td>Two pair</td>\n",
       "      <td>4041658</td>\n",
       "      <td>2</td>\n",
       "      <td>440</td>\n",
       "    </tr>\n",
       "    <tr>\n",
       "      <th>2</th>\n",
       "      <td>KK677</td>\n",
       "      <td>28</td>\n",
       "      <td>Two pair</td>\n",
       "      <td>4052599</td>\n",
       "      <td>3</td>\n",
       "      <td>84</td>\n",
       "    </tr>\n",
       "    <tr>\n",
       "      <th>3</th>\n",
       "      <td>T55J5</td>\n",
       "      <td>684</td>\n",
       "      <td>Three of a kind</td>\n",
       "      <td>4871605</td>\n",
       "      <td>4</td>\n",
       "      <td>2736</td>\n",
       "    </tr>\n",
       "    <tr>\n",
       "      <th>4</th>\n",
       "      <td>QQQJA</td>\n",
       "      <td>483</td>\n",
       "      <td>Three of a kind</td>\n",
       "      <td>5033150</td>\n",
       "      <td>5</td>\n",
       "      <td>2415</td>\n",
       "    </tr>\n",
       "  </tbody>\n",
       "</table>\n",
       "</div>"
      ],
      "text/plain": [
       "    hand  bid             type    score  rank  winnings\n",
       "0  32T3K  765         One pair  2304573     1       765\n",
       "1  KTJJT  220         Two pair  4041658     2       440\n",
       "2  KK677   28         Two pair  4052599     3        84\n",
       "3  T55J5  684  Three of a kind  4871605     4      2736\n",
       "4  QQQJA  483  Three of a kind  5033150     5      2415"
      ]
     },
     "execution_count": 12,
     "metadata": {},
     "output_type": "execute_result"
    }
   ],
   "source": [
    "part1(testlines, True)"
   ]
  },
  {
   "cell_type": "code",
   "execution_count": 13,
   "id": "65343122-24ba-4f8e-b8b7-4352286af9e8",
   "metadata": {},
   "outputs": [
    {
     "data": {
      "text/plain": [
       "6440"
      ]
     },
     "execution_count": 13,
     "metadata": {},
     "output_type": "execute_result"
    }
   ],
   "source": [
    "part1(testlines)"
   ]
  },
  {
   "cell_type": "code",
   "execution_count": 14,
   "id": "ba5917a3-7d52-4e4b-b339-9237b51ac12a",
   "metadata": {},
   "outputs": [
    {
     "data": {
      "text/plain": [
       "248396258"
      ]
     },
     "execution_count": 14,
     "metadata": {},
     "output_type": "execute_result"
    }
   ],
   "source": [
    "part1(data)"
   ]
  },
  {
   "cell_type": "markdown",
   "id": "f5970507-08f8-4e74-bf7b-d905ffe73c10",
   "metadata": {},
   "source": [
    "## Part 2"
   ]
  },
  {
   "cell_type": "code",
   "execution_count": 15,
   "id": "51da3703-0268-47b4-a3f5-c4b66304bb4b",
   "metadata": {},
   "outputs": [],
   "source": [
    "cardnums2 = {card:hex(num+1)[-1] for num, card in enumerate('J23456789TQKA')}"
   ]
  },
  {
   "cell_type": "code",
   "execution_count": 16,
   "id": "bfa522fb-f5bf-408e-a44d-0d7df6ed5f46",
   "metadata": {},
   "outputs": [
    {
     "data": {
      "text/plain": [
       "{'J': '1',\n",
       " '2': '2',\n",
       " '3': '3',\n",
       " '4': '4',\n",
       " '5': '5',\n",
       " '6': '6',\n",
       " '7': '7',\n",
       " '8': '8',\n",
       " '9': '9',\n",
       " 'T': 'a',\n",
       " 'Q': 'b',\n",
       " 'K': 'c',\n",
       " 'A': 'd'}"
      ]
     },
     "execution_count": 16,
     "metadata": {},
     "output_type": "execute_result"
    }
   ],
   "source": [
    "cardnums2"
   ]
  },
  {
   "cell_type": "code",
   "execution_count": 17,
   "id": "63eea444-3bd1-47a8-b0e2-266feef2e485",
   "metadata": {},
   "outputs": [],
   "source": [
    "def get_score2(hand):\n",
    "    type = get_best_type(hand)\n",
    "    s = [typenums[type]]\n",
    "    for c in hand:\n",
    "        s.append(cardnums2[c])\n",
    "    return int(f'0x{\"\".join(s)}', 16)"
   ]
  },
  {
   "cell_type": "code",
   "execution_count": 18,
   "id": "541cf535-24df-42c2-9cdd-0a7f14f4ca48",
   "metadata": {},
   "outputs": [],
   "source": [
    "def get_best_type(hand):\n",
    "    if 'J' not in hand:\n",
    "        return get_type(hand)\n",
    "    if all(c == 'J' for c in hand):\n",
    "        return 'Five of a kind'\n",
    "    best_type = 'High card'\n",
    "    for c in set(hand) - set('J'):\n",
    "        h = hand.replace('J', c)\n",
    "        t = get_type(h)\n",
    "        if typenums[t] > typenums[best_type]:\n",
    "            best_type = t\n",
    "    return best_type\n",
    "    "
   ]
  },
  {
   "cell_type": "code",
   "execution_count": 19,
   "id": "9d74fd2b-bc01-4f8b-88a6-52a11d702ac7",
   "metadata": {},
   "outputs": [
    {
     "data": {
      "text/plain": [
       "('Four of a kind', 'Five of a kind')"
      ]
     },
     "execution_count": 19,
     "metadata": {},
     "output_type": "execute_result"
    }
   ],
   "source": [
    "get_best_type('T55J5'), get_best_type('JJJJJ')"
   ]
  },
  {
   "cell_type": "code",
   "execution_count": 20,
   "id": "866da181-0395-497e-b532-59b984249a15",
   "metadata": {},
   "outputs": [
    {
     "name": "stdout",
     "output_type": "stream",
     "text": [
      "32T3K One pair\n",
      "T55J5 Four of a kind\n",
      "KK677 Two pair\n",
      "KTJJT Four of a kind\n",
      "QQQJA Four of a kind\n"
     ]
    }
   ],
   "source": [
    "for line in testlines.split('\\n'):\n",
    "    hand = line.split()[0]\n",
    "    print(hand, get_best_type(hand))"
   ]
  },
  {
   "cell_type": "code",
   "execution_count": 21,
   "id": "4ea8aed3-edb7-4985-86f3-a94ba9c26440",
   "metadata": {},
   "outputs": [],
   "source": [
    "def part2(inputstr, returndf=False):\n",
    "    df = pd.read_table(StringIO(inputstr), sep=' ', names=['hand', 'bid'])\n",
    "    df['type'] = df['hand'].apply(get_best_type)\n",
    "    df['score'] = df['hand'].apply(get_score2)\n",
    "    dfsort = df.sort_values('score', ascending=True, ignore_index=True)\n",
    "    dfsort['rank'] = dfsort.index + 1\n",
    "    dfsort['winnings'] = dfsort['bid']*dfsort['rank']\n",
    "    if returndf:\n",
    "        return dfsort\n",
    "    return dfsort['winnings'].sum()"
   ]
  },
  {
   "cell_type": "code",
   "execution_count": 22,
   "id": "0d3d942c-ccb9-4dbd-8f40-bf0925375734",
   "metadata": {},
   "outputs": [
    {
     "data": {
      "text/html": [
       "<div>\n",
       "<style scoped>\n",
       "    .dataframe tbody tr th:only-of-type {\n",
       "        vertical-align: middle;\n",
       "    }\n",
       "\n",
       "    .dataframe tbody tr th {\n",
       "        vertical-align: top;\n",
       "    }\n",
       "\n",
       "    .dataframe thead th {\n",
       "        text-align: right;\n",
       "    }\n",
       "</style>\n",
       "<table border=\"1\" class=\"dataframe\">\n",
       "  <thead>\n",
       "    <tr style=\"text-align: right;\">\n",
       "      <th></th>\n",
       "      <th>hand</th>\n",
       "      <th>bid</th>\n",
       "      <th>type</th>\n",
       "      <th>score</th>\n",
       "      <th>rank</th>\n",
       "      <th>winnings</th>\n",
       "    </tr>\n",
       "  </thead>\n",
       "  <tbody>\n",
       "    <tr>\n",
       "      <th>0</th>\n",
       "      <td>32T3K</td>\n",
       "      <td>765</td>\n",
       "      <td>One pair</td>\n",
       "      <td>2304572</td>\n",
       "      <td>1</td>\n",
       "      <td>765</td>\n",
       "    </tr>\n",
       "    <tr>\n",
       "      <th>1</th>\n",
       "      <td>KK677</td>\n",
       "      <td>28</td>\n",
       "      <td>Two pair</td>\n",
       "      <td>3982967</td>\n",
       "      <td>2</td>\n",
       "      <td>56</td>\n",
       "    </tr>\n",
       "    <tr>\n",
       "      <th>2</th>\n",
       "      <td>T55J5</td>\n",
       "      <td>684</td>\n",
       "      <td>Four of a kind</td>\n",
       "      <td>6968597</td>\n",
       "      <td>3</td>\n",
       "      <td>2052</td>\n",
       "    </tr>\n",
       "    <tr>\n",
       "      <th>3</th>\n",
       "      <td>QQQJA</td>\n",
       "      <td>483</td>\n",
       "      <td>Four of a kind</td>\n",
       "      <td>7060253</td>\n",
       "      <td>4</td>\n",
       "      <td>1932</td>\n",
       "    </tr>\n",
       "    <tr>\n",
       "      <th>4</th>\n",
       "      <td>KTJJT</td>\n",
       "      <td>220</td>\n",
       "      <td>Four of a kind</td>\n",
       "      <td>7119130</td>\n",
       "      <td>5</td>\n",
       "      <td>1100</td>\n",
       "    </tr>\n",
       "  </tbody>\n",
       "</table>\n",
       "</div>"
      ],
      "text/plain": [
       "    hand  bid            type    score  rank  winnings\n",
       "0  32T3K  765        One pair  2304572     1       765\n",
       "1  KK677   28        Two pair  3982967     2        56\n",
       "2  T55J5  684  Four of a kind  6968597     3      2052\n",
       "3  QQQJA  483  Four of a kind  7060253     4      1932\n",
       "4  KTJJT  220  Four of a kind  7119130     5      1100"
      ]
     },
     "execution_count": 22,
     "metadata": {},
     "output_type": "execute_result"
    }
   ],
   "source": [
    "part2(testlines, True)"
   ]
  },
  {
   "cell_type": "code",
   "execution_count": 23,
   "id": "b95d210f-f799-4fe7-bbb3-6e33022f42d7",
   "metadata": {},
   "outputs": [
    {
     "data": {
      "text/plain": [
       "5905"
      ]
     },
     "execution_count": 23,
     "metadata": {},
     "output_type": "execute_result"
    }
   ],
   "source": [
    "part2(testlines)"
   ]
  },
  {
   "cell_type": "code",
   "execution_count": 24,
   "id": "0ec110c5-ce79-4d86-9cd9-7061aaf50717",
   "metadata": {},
   "outputs": [
    {
     "data": {
      "text/plain": [
       "246436046"
      ]
     },
     "execution_count": 24,
     "metadata": {},
     "output_type": "execute_result"
    }
   ],
   "source": [
    "part2(data)"
   ]
  },
  {
   "cell_type": "code",
   "execution_count": null,
   "id": "f22c1424-e3e2-46fd-af31-7d692ad58c10",
   "metadata": {},
   "outputs": [],
   "source": []
  }
 ],
 "metadata": {
  "kernelspec": {
   "display_name": "Python 3 (ipykernel)",
   "language": "python",
   "name": "python3"
  },
  "language_info": {
   "codemirror_mode": {
    "name": "ipython",
    "version": 3
   },
   "file_extension": ".py",
   "mimetype": "text/x-python",
   "name": "python",
   "nbconvert_exporter": "python",
   "pygments_lexer": "ipython3",
   "version": "3.9.2"
  }
 },
 "nbformat": 4,
 "nbformat_minor": 5
}
