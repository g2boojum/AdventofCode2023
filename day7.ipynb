{
 "cells": [
  {
   "cell_type": "code",
   "execution_count": 1,
   "id": "1d093b27-b94a-41a9-9f1f-9467d8e56ddf",
   "metadata": {},
   "outputs": [],
   "source": [
    "%matplotlib inline\n",
    "import collections\n",
    "import pandas as pd\n",
    "from io import StringIO"
   ]
  },
  {
   "cell_type": "code",
   "execution_count": 2,
   "id": "2346ba23-60c0-4991-a5b6-a54d7c7c8bc0",
   "metadata": {},
   "outputs": [],
   "source": [
    "testlines = '''32T3K 765\n",
    "T55J5 684\n",
    "KK677 28\n",
    "KTJJT 220\n",
    "QQQJA 483'''"
   ]
  },
  {
   "cell_type": "code",
   "execution_count": 3,
   "id": "d0cd442f-73ef-4870-816d-17e0964ed732",
   "metadata": {},
   "outputs": [],
   "source": [
    "with open('day7input.txt') as fp:\n",
    "    data = fp.read()"
   ]
  },
  {
   "cell_type": "code",
   "execution_count": 13,
   "id": "dec9f3a5-39c4-440d-9902-ffb3f04bac22",
   "metadata": {},
   "outputs": [],
   "source": [
    "cards = list(reversed(['A', 'K', 'Q', 'J', 'T', '9', '8', '7', '6', '5', '4', '3', '2', '1']))"
   ]
  },
  {
   "cell_type": "markdown",
   "id": "135efd31-8cd4-427a-ae10-7487cb760656",
   "metadata": {},
   "source": [
    "## Part 1"
   ]
  },
  {
   "cell_type": "code",
   "execution_count": 4,
   "id": "1d085dd6-a62a-4eaa-9ac5-f8fd420e88c5",
   "metadata": {},
   "outputs": [],
   "source": [
    "types = {'High card': 0,\n",
    "         'One pair': 1,\n",
    "         'Two pair': 2,\n",
    "         'Three of a kind': 3,\n",
    "         'Full house': 4,\n",
    "         'Four of a kind': 5,\n",
    "         'Five of a kind': 6}"
   ]
  },
  {
   "cell_type": "code",
   "execution_count": 5,
   "id": "e9f0ed12-2b72-4b4f-a9cd-4f9a5c18c70d",
   "metadata": {},
   "outputs": [],
   "source": [
    "def get_type(hand):\n",
    "    c = collections.Counter(hand)\n",
    "    maxcnt = max(c.values())\n",
    "    if maxcnt == 5:\n",
    "        return 'Five of a kind'\n",
    "    elif maxcnt == 4:\n",
    "        return 'Four of a kind'\n",
    "    elif maxcnt == 3:\n",
    "        # either three of a kind, or a full house\n",
    "        if 2 in c.values():\n",
    "            return 'Full house'\n",
    "        else:\n",
    "            return 'Three of a kind'\n",
    "    elif maxcnt == 2:\n",
    "        # either one pair, or two pair\n",
    "        cv = collections.Counter(c.values())\n",
    "        if cv[2] == 2:\n",
    "            return 'Two pair'\n",
    "        else:\n",
    "            return 'One pair'\n",
    "    else:\n",
    "        return 'High card'"
   ]
  },
  {
   "cell_type": "code",
   "execution_count": 6,
   "id": "14ef583d-d191-4239-9735-903da1f1938a",
   "metadata": {},
   "outputs": [],
   "source": [
    "def parse(inputstr):\n",
    "    df = pd.read_table(StringIO(inputstr), sep=' ', names=['hand', 'bid'])\n",
    "    df['type'] = df['hand'].apply(get_type)\n",
    "    return df"
   ]
  },
  {
   "cell_type": "code",
   "execution_count": 7,
   "id": "cabb4990-763c-435a-bdd9-34a71a0ba22d",
   "metadata": {},
   "outputs": [
    {
     "data": {
      "text/html": [
       "<div>\n",
       "<style scoped>\n",
       "    .dataframe tbody tr th:only-of-type {\n",
       "        vertical-align: middle;\n",
       "    }\n",
       "\n",
       "    .dataframe tbody tr th {\n",
       "        vertical-align: top;\n",
       "    }\n",
       "\n",
       "    .dataframe thead th {\n",
       "        text-align: right;\n",
       "    }\n",
       "</style>\n",
       "<table border=\"1\" class=\"dataframe\">\n",
       "  <thead>\n",
       "    <tr style=\"text-align: right;\">\n",
       "      <th></th>\n",
       "      <th>hand</th>\n",
       "      <th>bid</th>\n",
       "      <th>type</th>\n",
       "    </tr>\n",
       "  </thead>\n",
       "  <tbody>\n",
       "    <tr>\n",
       "      <th>0</th>\n",
       "      <td>32T3K</td>\n",
       "      <td>765</td>\n",
       "      <td>One pair</td>\n",
       "    </tr>\n",
       "    <tr>\n",
       "      <th>1</th>\n",
       "      <td>T55J5</td>\n",
       "      <td>684</td>\n",
       "      <td>Three of a kind</td>\n",
       "    </tr>\n",
       "    <tr>\n",
       "      <th>2</th>\n",
       "      <td>KK677</td>\n",
       "      <td>28</td>\n",
       "      <td>Two pair</td>\n",
       "    </tr>\n",
       "    <tr>\n",
       "      <th>3</th>\n",
       "      <td>KTJJT</td>\n",
       "      <td>220</td>\n",
       "      <td>Two pair</td>\n",
       "    </tr>\n",
       "    <tr>\n",
       "      <th>4</th>\n",
       "      <td>QQQJA</td>\n",
       "      <td>483</td>\n",
       "      <td>Three of a kind</td>\n",
       "    </tr>\n",
       "  </tbody>\n",
       "</table>\n",
       "</div>"
      ],
      "text/plain": [
       "    hand  bid             type\n",
       "0  32T3K  765         One pair\n",
       "1  T55J5  684  Three of a kind\n",
       "2  KK677   28         Two pair\n",
       "3  KTJJT  220         Two pair\n",
       "4  QQQJA  483  Three of a kind"
      ]
     },
     "execution_count": 7,
     "metadata": {},
     "output_type": "execute_result"
    }
   ],
   "source": [
    "parse(testlines)"
   ]
  },
  {
   "cell_type": "code",
   "execution_count": null,
   "id": "65343122-24ba-4f8e-b8b7-4352286af9e8",
   "metadata": {},
   "outputs": [],
   "source": []
  }
 ],
 "metadata": {
  "kernelspec": {
   "display_name": "Python 3 (ipykernel)",
   "language": "python",
   "name": "python3"
  },
  "language_info": {
   "codemirror_mode": {
    "name": "ipython",
    "version": 3
   },
   "file_extension": ".py",
   "mimetype": "text/x-python",
   "name": "python",
   "nbconvert_exporter": "python",
   "pygments_lexer": "ipython3",
   "version": "3.12.0"
  }
 },
 "nbformat": 4,
 "nbformat_minor": 5
}
