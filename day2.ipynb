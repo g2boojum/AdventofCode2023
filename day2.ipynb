{
 "cells": [
  {
   "cell_type": "code",
   "execution_count": 1,
   "id": "15a4fa50-1cd4-426b-92a9-70553a88d109",
   "metadata": {},
   "outputs": [],
   "source": [
    "%matplotlib inline"
   ]
  },
  {
   "cell_type": "code",
   "execution_count": 2,
   "id": "7c2545cc-485b-4a95-8bf8-d2b707386560",
   "metadata": {},
   "outputs": [],
   "source": [
    "testlines = '''Game 1: 3 blue, 4 red; 1 red, 2 green, 6 blue; 2 green\n",
    "Game 2: 1 blue, 2 green; 3 green, 4 blue, 1 red; 1 green, 1 blue\n",
    "Game 3: 8 green, 6 blue, 20 red; 5 blue, 4 red, 13 green; 5 green, 1 red\n",
    "Game 4: 1 green, 3 red, 6 blue; 3 green, 6 red; 3 green, 15 blue, 14 red\n",
    "Game 5: 6 red, 1 blue, 3 green; 2 blue, 1 red, 2 green'''.splitlines()"
   ]
  },
  {
   "cell_type": "code",
   "execution_count": 3,
   "id": "f11433dc-d8e3-4945-9b50-688a01f0fc23",
   "metadata": {},
   "outputs": [],
   "source": [
    "with open('day2input.txt') as fp:\n",
    "    data = fp.read().splitlines()"
   ]
  },
  {
   "cell_type": "markdown",
   "id": "23c4a6a3-3981-401c-9302-34443d25c647",
   "metadata": {},
   "source": [
    "## Part 1"
   ]
  },
  {
   "cell_type": "code",
   "execution_count": 4,
   "id": "8c300273-c8f2-4fc5-a03e-4587dd9c38c8",
   "metadata": {},
   "outputs": [],
   "source": [
    "maxred, maxgreen, maxblue = 12, 13, 14"
   ]
  },
  {
   "cell_type": "code",
   "execution_count": 5,
   "id": "0330c4ce-a933-4903-a25b-631ee7d52da7",
   "metadata": {},
   "outputs": [],
   "source": [
    "def parseline(line):\n",
    "    game, rhs = line.split(':')\n",
    "    gamenum = int(game[5:])\n",
    "    sets = rhs.split(';')\n",
    "    samples = []\n",
    "    for s in sets:\n",
    "        rgb = [0, 0, 0]\n",
    "        for draw in s.split(','):\n",
    "            nstr, color = draw.strip().split()\n",
    "            n = int(nstr)\n",
    "            if color == 'red':\n",
    "                rgb[0] += n\n",
    "            elif color == 'green':\n",
    "                rgb[1] += n\n",
    "            elif color == 'blue':\n",
    "                rgb[2] += n\n",
    "            else:\n",
    "                raise ValueError(f'Bad color: {color}')\n",
    "        samples.append(rgb)\n",
    "    return gamenum, samples"
   ]
  },
  {
   "cell_type": "code",
   "execution_count": 6,
   "id": "b13ea242-2789-4bc3-8b69-2d230c934250",
   "metadata": {},
   "outputs": [
    {
     "data": {
      "text/plain": [
       "(1, [[4, 0, 3], [1, 2, 6], [0, 2, 0]])"
      ]
     },
     "execution_count": 6,
     "metadata": {},
     "output_type": "execute_result"
    }
   ],
   "source": [
    "parseline(testlines[0])"
   ]
  },
  {
   "cell_type": "code",
   "execution_count": 7,
   "id": "345daac5-baa2-4592-b32c-cf524f1a22ee",
   "metadata": {},
   "outputs": [],
   "source": [
    "def parse(lines):\n",
    "    d = {}\n",
    "    for line in lines:\n",
    "        gamenum, samples = parseline(line)\n",
    "        d[gamenum] = samples\n",
    "    return d"
   ]
  },
  {
   "cell_type": "code",
   "execution_count": 8,
   "id": "ba878ad3-a9d6-4e90-a439-ee3d4cf6668d",
   "metadata": {},
   "outputs": [
    {
     "data": {
      "text/plain": [
       "{1: [[4, 0, 3], [1, 2, 6], [0, 2, 0]],\n",
       " 2: [[0, 2, 1], [1, 3, 4], [0, 1, 1]],\n",
       " 3: [[20, 8, 6], [4, 13, 5], [1, 5, 0]],\n",
       " 4: [[3, 1, 6], [6, 3, 0], [14, 3, 15]],\n",
       " 5: [[6, 3, 1], [1, 2, 2]]}"
      ]
     },
     "execution_count": 8,
     "metadata": {},
     "output_type": "execute_result"
    }
   ],
   "source": [
    "games = parse(testlines)\n",
    "games"
   ]
  },
  {
   "cell_type": "code",
   "execution_count": 9,
   "id": "591924ea-ba72-4a25-a02e-094bb0709895",
   "metadata": {},
   "outputs": [],
   "source": [
    "def isvalid(samples):\n",
    "    for s in samples:\n",
    "        if (s[0] > maxred) or (s[1] > maxgreen) or (s[2] > maxblue):\n",
    "            return False\n",
    "    return True"
   ]
  },
  {
   "cell_type": "code",
   "execution_count": 10,
   "id": "15fb9a4d-12ae-42ac-bd55-352793411e39",
   "metadata": {},
   "outputs": [
    {
     "data": {
      "text/plain": [
       "(True, False)"
      ]
     },
     "execution_count": 10,
     "metadata": {},
     "output_type": "execute_result"
    }
   ],
   "source": [
    "isvalid(games[1]), isvalid(games[3])"
   ]
  },
  {
   "cell_type": "code",
   "execution_count": 11,
   "id": "e2e0e08b-44aa-4967-8a36-df5e3711f9cc",
   "metadata": {},
   "outputs": [],
   "source": [
    "def part1(lines):\n",
    "    games = parse(lines)\n",
    "    return sum(gnum for gnum in games if isvalid(games[gnum]))"
   ]
  },
  {
   "cell_type": "code",
   "execution_count": 12,
   "id": "1fa74909-ba94-4172-ad65-49b1cb9d165b",
   "metadata": {},
   "outputs": [
    {
     "data": {
      "text/plain": [
       "8"
      ]
     },
     "execution_count": 12,
     "metadata": {},
     "output_type": "execute_result"
    }
   ],
   "source": [
    "part1(testlines)"
   ]
  },
  {
   "cell_type": "code",
   "execution_count": 13,
   "id": "33d65ed3-86c1-48e4-9857-44540ddbbb85",
   "metadata": {},
   "outputs": [
    {
     "data": {
      "text/plain": [
       "2512"
      ]
     },
     "execution_count": 13,
     "metadata": {},
     "output_type": "execute_result"
    }
   ],
   "source": [
    "part1(data)"
   ]
  },
  {
   "cell_type": "markdown",
   "id": "ec030bc0-3861-47dd-af69-6ad1ca3f3020",
   "metadata": {},
   "source": [
    "## Part 2"
   ]
  },
  {
   "cell_type": "code",
   "execution_count": 14,
   "id": "fd1d415d-ace3-453c-80dd-85bb6fe32e7b",
   "metadata": {},
   "outputs": [],
   "source": [
    "def power(samples):\n",
    "    minr = max(s[0] for s in samples)\n",
    "    ming = max(s[1] for s in samples)\n",
    "    minb = max(s[2] for s in samples)\n",
    "    return minr*ming*minb"
   ]
  },
  {
   "cell_type": "code",
   "execution_count": 15,
   "id": "5fb945c5-a255-4f00-902a-460495b8fe92",
   "metadata": {},
   "outputs": [
    {
     "name": "stdout",
     "output_type": "stream",
     "text": [
      "1 48\n",
      "2 12\n",
      "3 1560\n",
      "4 630\n",
      "5 36\n"
     ]
    }
   ],
   "source": [
    "for gn in games:\n",
    "    print(gn, power(games[gn]))"
   ]
  },
  {
   "cell_type": "code",
   "execution_count": 16,
   "id": "97a2821a-a00e-44e8-895e-262381e6a142",
   "metadata": {},
   "outputs": [],
   "source": [
    "def part2(lines):\n",
    "    games = parse(lines)\n",
    "    return sum(power(games[gn]) for gn in games)"
   ]
  },
  {
   "cell_type": "code",
   "execution_count": 17,
   "id": "52683e9e-5fc5-452a-b918-ed6e62e412bc",
   "metadata": {},
   "outputs": [
    {
     "data": {
      "text/plain": [
       "2286"
      ]
     },
     "execution_count": 17,
     "metadata": {},
     "output_type": "execute_result"
    }
   ],
   "source": [
    "part2(testlines)"
   ]
  },
  {
   "cell_type": "code",
   "execution_count": 18,
   "id": "5c1e84ad-bbed-4a34-a833-411109971373",
   "metadata": {},
   "outputs": [
    {
     "data": {
      "text/plain": [
       "67335"
      ]
     },
     "execution_count": 18,
     "metadata": {},
     "output_type": "execute_result"
    }
   ],
   "source": [
    "part2(data)"
   ]
  },
  {
   "cell_type": "code",
   "execution_count": null,
   "id": "e3b8f1e5-ad58-4ed5-b97f-cb509210bbab",
   "metadata": {},
   "outputs": [],
   "source": []
  }
 ],
 "metadata": {
  "kernelspec": {
   "display_name": "Python 3 (ipykernel)",
   "language": "python",
   "name": "python3"
  },
  "language_info": {
   "codemirror_mode": {
    "name": "ipython",
    "version": 3
   },
   "file_extension": ".py",
   "mimetype": "text/x-python",
   "name": "python",
   "nbconvert_exporter": "python",
   "pygments_lexer": "ipython3",
   "version": "3.9.2"
  }
 },
 "nbformat": 4,
 "nbformat_minor": 5
}
