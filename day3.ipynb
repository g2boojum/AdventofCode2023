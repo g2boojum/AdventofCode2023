{
 "cells": [
  {
   "cell_type": "code",
   "execution_count": 1,
   "id": "bde747a6-1c8c-41fb-9f8e-7e1f43461399",
   "metadata": {},
   "outputs": [],
   "source": [
    "%matplotlib inline"
   ]
  },
  {
   "cell_type": "code",
   "execution_count": 2,
   "id": "84eda00e-1b70-4888-9b37-aab821512d6e",
   "metadata": {},
   "outputs": [],
   "source": [
    "testlines = '''467..114..\n",
    "...*......\n",
    "..35..633.\n",
    "......#...\n",
    "617*......\n",
    ".....+.58.\n",
    "..592.....\n",
    "......755.\n",
    "...$.*....\n",
    ".664.598..'''.splitlines()"
   ]
  },
  {
   "cell_type": "code",
   "execution_count": 3,
   "id": "7da6fa04-7153-40c7-9831-f84be22649da",
   "metadata": {},
   "outputs": [],
   "source": [
    "with open('day3input.txt') as fp:\n",
    "    data = fp.read().splitlines()"
   ]
  },
  {
   "cell_type": "markdown",
   "id": "d0336280-0259-4524-83e6-452fd5da9a01",
   "metadata": {},
   "source": [
    "## Part 1"
   ]
  },
  {
   "cell_type": "code",
   "execution_count": 4,
   "id": "4bb79e46-6829-4a38-bf13-07c7202ea1f1",
   "metadata": {},
   "outputs": [],
   "source": [
    "def scanlines(lines):\n",
    "    d = {}\n",
    "    for ln, line in enumerate(lines):\n",
    "        i = 0\n",
    "        while i < len(line):\n",
    "            c = line[i]\n",
    "            if c == '.':\n",
    "                i += 1\n",
    "                continue\n",
    "            if not c.isdigit():\n",
    "                # it's a symbol\n",
    "                d[(ln, i)] = {'type': 'symbol', 'val': c, 'len': 1}\n",
    "                i += 1\n",
    "                continue\n",
    "            # new int\n",
    "            numstr = [c]\n",
    "            loc = i\n",
    "            i += 1\n",
    "            while i < len(line) and line[i].isdigit():\n",
    "                numstr.append(line[i])\n",
    "                i+= 1\n",
    "            numlen = len(numstr)\n",
    "            num = int(''.join(numstr))\n",
    "            d[(ln, loc)] = {'type': 'num', 'val': num, 'len': numlen}\n",
    "    return d\n",
    "        "
   ]
  },
  {
   "cell_type": "code",
   "execution_count": 5,
   "id": "56acac25-3443-4d43-8165-feba13542103",
   "metadata": {},
   "outputs": [
    {
     "data": {
      "text/plain": [
       "{(0, 0): {'type': 'num', 'val': 467, 'len': 3},\n",
       " (0, 5): {'type': 'num', 'val': 114, 'len': 3},\n",
       " (1, 3): {'type': 'symbol', 'val': '*', 'len': 1},\n",
       " (2, 2): {'type': 'num', 'val': 35, 'len': 2},\n",
       " (2, 6): {'type': 'num', 'val': 633, 'len': 3},\n",
       " (3, 6): {'type': 'symbol', 'val': '#', 'len': 1},\n",
       " (4, 0): {'type': 'num', 'val': 617, 'len': 3},\n",
       " (4, 3): {'type': 'symbol', 'val': '*', 'len': 1},\n",
       " (5, 5): {'type': 'symbol', 'val': '+', 'len': 1},\n",
       " (5, 7): {'type': 'num', 'val': 58, 'len': 2},\n",
       " (6, 2): {'type': 'num', 'val': 592, 'len': 3},\n",
       " (7, 6): {'type': 'num', 'val': 755, 'len': 3},\n",
       " (8, 3): {'type': 'symbol', 'val': '$', 'len': 1},\n",
       " (8, 5): {'type': 'symbol', 'val': '*', 'len': 1},\n",
       " (9, 1): {'type': 'num', 'val': 664, 'len': 3},\n",
       " (9, 5): {'type': 'num', 'val': 598, 'len': 3}}"
      ]
     },
     "execution_count": 5,
     "metadata": {},
     "output_type": "execute_result"
    }
   ],
   "source": [
    "items = scanlines(testlines)\n",
    "items"
   ]
  },
  {
   "cell_type": "code",
   "execution_count": 6,
   "id": "39206d61-a70a-4ad2-849c-a7f04dcaffc9",
   "metadata": {},
   "outputs": [],
   "source": [
    "def ispart(numloc, items):\n",
    "    ln, pos = numloc\n",
    "    numlen = items[numloc]['len']\n",
    "    # line above\n",
    "    for i in range(pos-1, pos+numlen+1):\n",
    "        p = (ln-1, i)\n",
    "        if p in items and items[p]['type'] == 'symbol':\n",
    "            return True\n",
    "    # same line as number\n",
    "    for i in (pos-1, pos+numlen):\n",
    "        p = (ln, i)\n",
    "        if p in items and items[p]['type'] == 'symbol':\n",
    "            return True\n",
    "    # line below\n",
    "    for i in range(pos-1, pos+numlen+1):\n",
    "        p = (ln+1, i)\n",
    "        if p in items and items[p]['type'] == 'symbol':\n",
    "            return True\n",
    "    return False\n",
    "    "
   ]
  },
  {
   "cell_type": "code",
   "execution_count": 7,
   "id": "861a9de2-b132-4c66-86c3-da3b432948db",
   "metadata": {},
   "outputs": [],
   "source": [
    "def part1(lines):\n",
    "    items = scanlines(lines)\n",
    "    numberlocs = [loc for loc in items if items[loc]['type'] == 'num']\n",
    "    maxnum = max(items[loc]['val'] for loc in numberlocs)\n",
    "    print('Max number: ', maxnum)\n",
    "    return sum(items[numloc]['val'] for numloc in numberlocs if ispart(numloc, items))"
   ]
  },
  {
   "cell_type": "code",
   "execution_count": 8,
   "id": "7e641efb-375c-40ac-91b6-3e4aaf4db1af",
   "metadata": {},
   "outputs": [
    {
     "name": "stdout",
     "output_type": "stream",
     "text": [
      "Max number:  755\n"
     ]
    },
    {
     "data": {
      "text/plain": [
       "4361"
      ]
     },
     "execution_count": 8,
     "metadata": {},
     "output_type": "execute_result"
    }
   ],
   "source": [
    "part1(testlines)"
   ]
  },
  {
   "cell_type": "code",
   "execution_count": 9,
   "id": "5544f823-0d18-4059-b872-27e55c3b7004",
   "metadata": {},
   "outputs": [
    {
     "name": "stdout",
     "output_type": "stream",
     "text": [
      "Max number:  999\n"
     ]
    },
    {
     "data": {
      "text/plain": [
       "536202"
      ]
     },
     "execution_count": 9,
     "metadata": {},
     "output_type": "execute_result"
    }
   ],
   "source": [
    "part1(data)"
   ]
  },
  {
   "cell_type": "markdown",
   "id": "b4db367b-3d55-4131-9875-a8bef6adb3bc",
   "metadata": {},
   "source": [
    "## Part 2"
   ]
  },
  {
   "cell_type": "code",
   "execution_count": 10,
   "id": "280b0f25-078c-49af-a8a4-6374bad6150c",
   "metadata": {},
   "outputs": [],
   "source": [
    "def parts_near_star(starloc, numberlocs, items):\n",
    "    starln, starpos = starloc\n",
    "    partnums = []\n",
    "    for numloc in numberlocs:\n",
    "        numln, numpos = numloc\n",
    "        numsz = items[numloc]['len']\n",
    "        if starln == numln:\n",
    "            # same line, only two valid positions \n",
    "            if (numpos == starpos - numsz) or (numpos == starpos + 1):\n",
    "                partnums.append(items[numloc]['val'])\n",
    "        elif (numln == starln - 1) or (numln == starln + 1):\n",
    "            # line above or below, valid positions depend on number of digits\n",
    "            # (just enumerate the possible locations)\n",
    "            dist = numpos - starpos\n",
    "            if -numsz <= dist <= +1:\n",
    "                partnums.append(items[numloc]['val'])\n",
    "    return partnums"
   ]
  },
  {
   "cell_type": "code",
   "execution_count": 11,
   "id": "f13a1a08-e21f-4640-bad2-0d6936f79d6f",
   "metadata": {},
   "outputs": [],
   "source": [
    "def part2(lines):\n",
    "    items = scanlines(lines)\n",
    "    numberlocs = [loc for loc in items if items[loc]['type'] == 'num']\n",
    "    starlocs = [loc for loc in items if items[loc]['val'] == '*']\n",
    "    sum = 0\n",
    "    for starloc in starlocs:\n",
    "        partnums = parts_near_star(starloc, numberlocs, items)\n",
    "        if len(partnums) == 2:\n",
    "            # it's a gear\n",
    "            sum += partnums[0]*partnums[1]\n",
    "    return sum"
   ]
  },
  {
   "cell_type": "code",
   "execution_count": 12,
   "id": "9735ae4e-dddc-4948-b08d-686c2bf82e02",
   "metadata": {},
   "outputs": [
    {
     "data": {
      "text/plain": [
       "467835"
      ]
     },
     "execution_count": 12,
     "metadata": {},
     "output_type": "execute_result"
    }
   ],
   "source": [
    "part2(testlines)"
   ]
  },
  {
   "cell_type": "code",
   "execution_count": 13,
   "id": "0dabb02b-57f8-4da1-b948-9fab2d20c9fe",
   "metadata": {},
   "outputs": [
    {
     "data": {
      "text/plain": [
       "78272573"
      ]
     },
     "execution_count": 13,
     "metadata": {},
     "output_type": "execute_result"
    }
   ],
   "source": [
    "part2(data)"
   ]
  }
 ],
 "metadata": {
  "kernelspec": {
   "display_name": "Python 3 (ipykernel)",
   "language": "python",
   "name": "python3"
  },
  "language_info": {
   "codemirror_mode": {
    "name": "ipython",
    "version": 3
   },
   "file_extension": ".py",
   "mimetype": "text/x-python",
   "name": "python",
   "nbconvert_exporter": "python",
   "pygments_lexer": "ipython3",
   "version": "3.12.0"
  }
 },
 "nbformat": 4,
 "nbformat_minor": 5
}
